{
 "cells": [
  {
   "cell_type": "code",
   "execution_count": 5,
   "metadata": {},
   "outputs": [
    {
     "name": "stdout",
     "output_type": "stream",
     "text": [
      "x0 =  0\n",
      "y0 =  0\n",
      "rn =  0.8444218515250481\n",
      "x1 =  3\n",
      "y1 =  4\n",
      "6.4031242374328485\n"
     ]
    }
   ],
   "source": [
    "# import packages\n",
    "import random\n",
    "import math\n",
    "\n",
    "random.seed(0)\n",
    "\n",
    "# Initialise variable x0\n",
    "x0 = 0\n",
    "print(\"x0 = \", x0)\n",
    "# Initialise variable y0\n",
    "y0 = 0\n",
    "print(\"y0 = \", y0)\n",
    "\n",
    "# Change x0 and y0 randomly\n",
    "rn = random.random()\n",
    "print(\"rn = \", rn)\n",
    "\n",
    "# Initialise variable x1\n",
    "x1 = 3\n",
    "print(\"x1 = \", x1)\n",
    "\n",
    "# Initialise variable y1\n",
    "y1 = 4\n",
    "print(\"y1 = \", y1)\n",
    "\n",
    "# Change x1 and y1 randomly\n",
    "if rn < 0.5:\n",
    "    x1 -= 1\n",
    "    y1 -= 1\n",
    "else:\n",
    "    x1 += 1\n",
    "    y1 += 1\n",
    "\n",
    "# Calculate the Euclidean distance between (x0, y0) and (x1, y1)\n",
    "distance = math.sqrt((x1 - x0)**2 + (y1- y0)**2)\n",
    "print(distance)"
   ]
  },
  {
   "cell_type": "code",
   "execution_count": 10,
   "metadata": {},
   "outputs": [
    {
     "name": "stdout",
     "output_type": "stream",
     "text": [
      "[64, 17]\n",
      "[36, 17]\n",
      "28.0\n"
     ]
    }
   ],
   "source": [
    "# Initial agent_0, agent_1 in same coordinate\n",
    "agent_0 = [0, 0]\n",
    "agent_1 = [0, 0]\n",
    "\n",
    "# move agent_0 and agent_1\n",
    "agent_0 = [random.randint(0, 99) for i in range(2)]\n",
    "print(agent_0)\n",
    "agent_1 = [random.randint(0, 99) for i in range(2)]\n",
    "print(agent_1)\n",
    "\n",
    "distance = math.sqrt((agent_1[0] - agent_0[0])**2 + (agent_1[1] - agent_0[1])**2)\n",
    "print(distance)"
   ]
  }
 ],
 "metadata": {
  "kernelspec": {
   "display_name": "base",
   "language": "python",
   "name": "python3"
  },
  "language_info": {
   "codemirror_mode": {
    "name": "ipython",
    "version": 3
   },
   "file_extension": ".py",
   "mimetype": "text/x-python",
   "name": "python",
   "nbconvert_exporter": "python",
   "pygments_lexer": "ipython3",
   "version": "3.9.13"
  },
  "orig_nbformat": 4
 },
 "nbformat": 4,
 "nbformat_minor": 2
}
