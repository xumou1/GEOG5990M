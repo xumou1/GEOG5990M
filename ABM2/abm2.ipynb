{
 "cells": [
  {
   "cell_type": "code",
   "execution_count": 1,
   "metadata": {},
   "outputs": [
    {
     "name": "stdout",
     "output_type": "stream",
     "text": [
      "x0 49\n",
      "y0 97\n",
      "rn 0.890243920837131\n",
      "x0 48\n",
      "rn 0.04048437818077755\n",
      "y0 98\n",
      "x1 65\n",
      "y1 62\n",
      "rn 0.4049341374504143\n",
      "x1 66\n",
      "rn 0.7837985890347726\n",
      "y1 61\n",
      "ssd 25\n",
      "distance 5.0\n",
      "distance 5.0\n"
     ]
    }
   ],
   "source": [
    "# Initial code\n",
    "import random\n",
    "import math\n",
    "\n",
    "# Set the pseudo-random seed for reproducibility\n",
    "random.seed(0)\n",
    "\n",
    "# Initialise variable x0\n",
    "x0 = random.randint(0, 99)\n",
    "print(\"x0\", x0)\n",
    "# Initialise variable y0\n",
    "y0 = random.randint(0, 99)\n",
    "print(\"y0\", y0)\n",
    "\n",
    "# Change x0 and y0 randomly\n",
    "rn = random.random()\n",
    "print(\"rn\", rn)\n",
    "if rn < 0.5:\n",
    "    x0 = x0 + 1\n",
    "else:\n",
    "    x0 = x0 - 1\n",
    "print(\"x0\", x0)\n",
    "rn = random.random()\n",
    "print(\"rn\", rn)\n",
    "if rn < 0.5:\n",
    "    y0 = y0 + 1\n",
    "else:\n",
    "    y0 = y0 - 1\n",
    "print(\"y0\", y0)\n",
    "\n",
    "# Initialise variable x1\n",
    "x1 = random.randint(0, 99)\n",
    "print(\"x1\", x1)\n",
    "# Initialise variable y1\n",
    "y1 = random.randint(0, 99)\n",
    "print(\"y1\", y1)\n",
    "\n",
    "# Change x1 and y1 randomly\n",
    "rn = random.random()\n",
    "print(\"rn\", rn)\n",
    "if rn < 0.5:\n",
    "    x1 = x1 + 1\n",
    "else:\n",
    "    x1 = x1 - 1\n",
    "print(\"x1\", x1)\n",
    "rn = random.random()\n",
    "print(\"rn\", rn)\n",
    "if rn < 0.5:\n",
    "    y1 = y1 + 1\n",
    "else:\n",
    "    y1 = y1 - 1\n",
    "print(\"y1\", y1)\n",
    "\n",
    "# Calculate the Euclidean distance between (x0, y0) and (x1, y1)\n",
    "# Set x0 and y0 to equal 0, x1 to equal 3, and y1 to equal 4\n",
    "x0 = 0\n",
    "y0 = 0\n",
    "x1 = 3\n",
    "y1 = 4\n",
    "# Calculate the difference in the x coordinates.\n",
    "dx = x0 - x1\n",
    "# Calculate the difference in the y coordinates.\n",
    "dy = y0 - y1\n",
    "# Square the differences and add the squares\n",
    "ssd = (dx * dx) + (dy * dy)\n",
    "print(\"ssd\", ssd)\n",
    "# Calculate the square root\n",
    "distance = ssd ** 0.5\n",
    "print(\"distance\", distance)\n",
    "distance = math.sqrt(ssd)\n",
    "print(\"distance\", distance)"
   ]
  },
  {
   "cell_type": "code",
   "execution_count": 8,
   "metadata": {},
   "outputs": [
    {
     "name": "stdout",
     "output_type": "stream",
     "text": [
      "[[37, 23], [24, 23], [4, 78], [84, 33], [60, 8], [11, 86], [96, 16], [19, 4], [10, 89], [69, 87]]\n"
     ]
    },
    {
     "data": {
      "image/png": "[encoded data removed]",
      "text/plain": [
       "<Figure size 640x480 with 1 Axes>"
      ]
     },
     "metadata": {},
     "output_type": "display_data"
    },
    {
     "name": "stdout",
     "output_type": "stream",
     "text": [
      "[96, 16]\n"
     ]
    }
   ],
   "source": [
    "# import packages\n",
    "import matplotlib.pyplot as plt\n",
    "import operator\n",
    "\n",
    "# Create a list to store agents\n",
    "agents = []\n",
    "n_agent = 10\n",
    "for i in range(n_agent):\n",
    "    agents.append([random.randint(0, 99) for j in range(2)])\n",
    "print(agents)\n",
    "distance = math.sqrt((agents[1][0] - agents[0][0])**2 + (agents[1][1]-agents[0][1])**2)\n",
    "\n",
    "# Plot the agent\n",
    "for agent in agents:\n",
    "    plt.scatter(agent[0], agent[1], color = \"black\")\n",
    "plt.scatter(max(agents , key=operator.itemgetter(0))[0],max(agents , key=operator.itemgetter(0))[1], color = \"red\") # maximum x\n",
    "plt.scatter(min(agents , key=operator.itemgetter(0))[0],min(agents , key=operator.itemgetter(0))[1], color = \"blue\") # minimum x\n",
    "plt.scatter(max(agents , key=operator.itemgetter(1))[0],max(agents , key=operator.itemgetter(1))[1], color = \"yellow\") # maximum y\n",
    "plt.scatter(min(agents , key=operator.itemgetter(1))[0],min(agents , key=operator.itemgetter(1))[1], color = \"green\") # minimum y\n",
    "plt.show()\n",
    "\n",
    "# Get the coordinates with the largest x-coordinate\n",
    "print(max(agents, key = operator.itemgetter(0)))"
   ]
  }
 ],
 "metadata": {
  "kernelspec": {
   "display_name": "base",
   "language": "python",
   "name": "python3"
  },
  "language_info": {
   "codemirror_mode": {
    "name": "ipython",
    "version": 3
   },
   "file_extension": ".py",
   "mimetype": "text/x-python",
   "name": "python",
   "nbconvert_exporter": "python",
   "pygments_lexer": "ipython3",
   "version": "3.9.13"
  },
  "orig_nbformat": 4
 },
 "nbformat": 4,
 "nbformat_minor": 2
}
