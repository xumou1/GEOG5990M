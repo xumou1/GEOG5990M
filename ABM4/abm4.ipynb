{
 "cells": [
  {
   "cell_type": "code",
   "execution_count": 2,
   "metadata": {},
   "outputs": [
    {
     "name": "stdout",
     "output_type": "stream",
     "text": [
      "Agent(i = 0, x = 54, y = 65)\n",
      "Agent(i = 1, x = 85, y = 60)\n",
      "Agent(i = 2, x = 6, y = 44)\n",
      "Agent(i = 3, x = 96, y = 84)\n",
      "Agent(i = 4, x = 34, y = 72)\n",
      "Agent(i = 5, x = 30, y = 93)\n",
      "Agent(i = 6, x = 41, y = 93)\n",
      "Agent(i = 7, x = 45, y = 81)\n",
      "Agent(i = 8, x = 35, y = 97)\n",
      "Agent(i = 9, x = 36, y = 85)\n",
      "[Agent(i = 0, x = 54, y = 65), Agent(i = 1, x = 85, y = 60), Agent(i = 2, x = 6, y = 44), Agent(i = 3, x = 96, y = 84), Agent(i = 4, x = 34, y = 72), Agent(i = 5, x = 30, y = 93), Agent(i = 6, x = 41, y = 93), Agent(i = 7, x = 45, y = 81), Agent(i = 8, x = 35, y = 97), Agent(i = 9, x = 36, y = 85)]\n"
     ]
    }
   ],
   "source": [
    "import agentframework as af\n",
    "import matplotlib.pyplot as plt\n",
    "import operator\n",
    "\n",
    "# Initialise agents\n",
    "agents = []\n",
    "n_agents = 10\n",
    "for i in range(n_agents):\n",
    "    # Create an agent\n",
    "    agents.append(af.Agent(i))\n",
    "    print(agents[i])\n",
    "print(agents)"
   ]
  },
  {
   "cell_type": "code",
   "execution_count": 3,
   "metadata": {},
   "outputs": [
    {
     "data": {
      "text/plain": [
       "<matplotlib.collections.PathCollection at 0x1c03b40a340>"
      ]
     },
     "execution_count": 3,
     "metadata": {},
     "output_type": "execute_result"
    },
    {
     "data": {
      "image/png": "[encoded data removed]",
      "text/plain": [
       "<Figure size 640x480 with 1 Axes>"
      ]
     },
     "metadata": {},
     "output_type": "display_data"
    }
   ],
   "source": [
    "# Plot the coordinate with the largest x red\n",
    "lx = max(agents, key=operator.attrgetter('x'))\n",
    "plt.scatter(lx.x, lx.y, color='red')\n",
    "# Plot the coordinate with the smallest x blue\n",
    "sx = min(agents, key=operator.attrgetter('x'))\n",
    "plt.scatter(sx.x, sx.y, color='blue')\n",
    "# Plot the coordinate with the largest y yellow\n",
    "ly = max(agents, key=operator.attrgetter('y'))\n",
    "plt.scatter(ly.x, ly.y, color='yellow')\n",
    "# Plot the coordinate with the smallest y green\n",
    "sy = min(agents, key=operator.attrgetter('y'))\n",
    "plt.scatter(sy.x, sy.y, color='green')"
   ]
  },
  {
   "cell_type": "code",
   "execution_count": 5,
   "metadata": {},
   "outputs": [],
   "source": [
    "n_iterations = 1000\n",
    "# Variables for constraining movement.\n",
    "# The minimum x coordinate.\n",
    "x_min = 0\n",
    "# The minimum y coordinate.\n",
    "y_min = 0\n",
    "# The maximum x coordinate.\n",
    "x_max = 99\n",
    "# The maximum y coordinate.\n",
    "y_max = 99\n",
    "\n",
    "for agent in agents:\n",
    "        for i in range(n_iterations):\n",
    "                # Apply movement constraints.\n",
    "                agent.move(x_min, y_min, x_max, y_max)"
   ]
  }
 ],
 "metadata": {
  "kernelspec": {
   "display_name": "base",
   "language": "python",
   "name": "python3"
  },
  "language_info": {
   "codemirror_mode": {
    "name": "ipython",
    "version": 3
   },
   "file_extension": ".py",
   "mimetype": "text/x-python",
   "name": "python",
   "nbconvert_exporter": "python",
   "pygments_lexer": "ipython3",
   "version": "3.9.13"
  },
  "orig_nbformat": 4
 },
 "nbformat": 4,
 "nbformat_minor": 2
}
